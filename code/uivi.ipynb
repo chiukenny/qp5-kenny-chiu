{
 "cells": [
  {
   "cell_type": "code",
   "execution_count": 1,
   "id": "offensive-aluminum",
   "metadata": {},
   "outputs": [],
   "source": [
    "import math\n",
    "import numpy as np\n",
    "import matplotlib.pyplot as plt"
   ]
  },
  {
   "cell_type": "code",
   "execution_count": 109,
   "id": "direct-inside",
   "metadata": {},
   "outputs": [],
   "source": [
    "def log_model(z, mean=[0,0], cov=[[1,0.9],[0.9,1]]):\n",
    "    #todo\n",
    "    # Banana distribution\n",
    "    # todo det\n",
    "    return -1/2*math.log((2*math.pi)**2*0.19) - 1/2*np.matmul(np.transpose(z-mean), np.matmul(cov,(z-mean)))\n",
    "\n",
    "def grad_log_model(z, mean=[0,0], cov=np.array([[1,0.9],[0.9,1]])):\n",
    "    # todo\n",
    "    # Banana distirbution\n",
    "    return -np.linalg.solve(cov, np.transpose(z))\n",
    "\n",
    "def reparam_mean(eps, theta):\n",
    "    # todo\n",
    "    return theta + eps[:,:-1]\n",
    "\n",
    "def reparam_func(eps, u, theta):\n",
    "    theta_sd = theta[-1]\n",
    "    theta_mean = theta[:-1]\n",
    "    return reparam_mean(eps,theta_mean) + theta_sd*u\n",
    "\n",
    "def grad_reparam_mean(eps, theta):\n",
    "    return np.ones(2)\n",
    "\n",
    "def grad_reparam_sd(eps, theta):\n",
    "    return np.ones(1)\n",
    "    \n",
    "def log_var(x, theta):\n",
    "    #todo\n",
    "    return -1/2*math.log(2*math.pi) - 1/2*(x-theta)**2\n",
    "\n",
    "def grad_log_var(z, eps, theta):\n",
    "    theta_sd = theta[-1]\n",
    "    theta_mean = theta[:-1]\n",
    "    return -np.matmul(np.eye(2)/theta_sd**2, np.transpose(z-reparam_mean(eps,theta_mean)))\n",
    "    \n",
    "def grad_elbo(theta):\n",
    "    # todo\n",
    "    d = len(theta)\n",
    "    n = 1\n",
    "    eps = np.random.multivariate_normal(np.zeros(3), np.eye(3), n)\n",
    "    u = np.random.multivariate_normal(np.zeros(2), np.eye(2), n)\n",
    "    #z = sample_var(n, theta, eps)\n",
    "    z = reparam_func(eps, u, theta)\n",
    "    \n",
    "    # mcmc\n",
    "    eps2 = eps #todo\n",
    "    \n",
    "    grad_model = np.repeat(np.sum(grad_log_model(z)),d) * np.array([1,1,np.asscalar(np.sum(u,axis=1))])\n",
    "    grad_entr = - np.repeat(np.sum(grad_log_var(z,eps2,theta)),d) * np.array([1,1,np.asscalar(np.sum(u,axis=1))]) # *grad_h\n",
    "    return grad_model + grad_entr\n",
    "    \n",
    "def optimize_elbo(init, step, iter=50):\n",
    "    theta = init\n",
    "    elbo = np.zeros(iter)\n",
    "    d = len(init)\n",
    "    thetas = np.zeros((iter, d))\n",
    "    for i in range(iter):\n",
    "        theta = theta + step/math.sqrt(i+1) * grad_elbo(theta)\n",
    "        thetas[i,:] = theta\n",
    "    return theta, thetas\n",
    "\n",
    "def sample_var(n, theta):\n",
    "    eps = np.random.multivariate_normal(np.zeros(3), np.eye(3), n)\n",
    "    u = np.random.multivariate_normal(np.zeros(2), np.eye(2), n)\n",
    "    z = reparam_func(eps, u, theta)\n",
    "    return z"
   ]
  },
  {
   "cell_type": "code",
   "execution_count": 110,
   "id": "thrown-cliff",
   "metadata": {},
   "outputs": [
    {
     "name": "stderr",
     "output_type": "stream",
     "text": [
      "<ipython-input-109-e97dd21318d9>:48: DeprecationWarning: np.asscalar(a) is deprecated since NumPy v1.16, use a.item() instead\n",
      "  grad_model = np.repeat(np.sum(grad_log_model(z)),d) * np.array([1,1,np.asscalar(np.sum(u,axis=1))])\n",
      "<ipython-input-109-e97dd21318d9>:49: DeprecationWarning: np.asscalar(a) is deprecated since NumPy v1.16, use a.item() instead\n",
      "  grad_entr = - np.repeat(np.sum(grad_log_var(z,eps2,theta)),d) * np.array([1,1,np.asscalar(np.sum(u,axis=1))]) # *grad_h\n"
     ]
    },
    {
     "data": {
      "text/plain": [
       "<matplotlib.collections.PathCollection at 0x1a1ec1a8af0>"
      ]
     },
     "execution_count": 110,
     "metadata": {},
     "output_type": "execute_result"
    },
    {
     "data": {
      "image/png": "[encoded data removed]",
      "text/plain": [
       "<Figure size 432x288 with 1 Axes>"
      ]
     },
     "metadata": {
      "needs_background": "light"
     },
     "output_type": "display_data"
    }
   ],
   "source": [
    "theta, thetas = optimize_elbo(np.append(np.random.multivariate_normal(np.zeros(2),np.eye(2),1), 1), step=1, iter=1000)\n",
    "z = sample_var(100, theta)\n",
    "plt.scatter(z[:,0],z[:,1])"
   ]
  },
  {
   "cell_type": "code",
   "execution_count": 111,
   "id": "strong-malaysia",
   "metadata": {},
   "outputs": [
    {
     "data": {
      "text/plain": [
       "array([[ 0.60739121,  0.03862267,  1.55465435],\n",
       "       [ 0.17198035, -0.3967882 ,  1.41925196],\n",
       "       [ 0.49625485, -0.0725137 ,  1.59069356],\n",
       "       ...,\n",
       "       [ 0.25064254, -0.318126  ,  1.44339289],\n",
       "       [ 0.26101145, -0.30775709,  1.44150924],\n",
       "       [ 0.31150406, -0.25726449,  1.50085124]])"
      ]
     },
     "execution_count": 111,
     "metadata": {},
     "output_type": "execute_result"
    }
   ],
   "source": [
    "thetas"
   ]
  },
  {
   "cell_type": "code",
   "execution_count": 92,
   "id": "powered-shannon",
   "metadata": {},
   "outputs": [
    {
     "data": {
      "text/plain": [
       "<matplotlib.collections.PathCollection at 0x20875c2cf70>"
      ]
     },
     "execution_count": 92,
     "metadata": {},
     "output_type": "execute_result"
    },
    {
     "data": {
      "image/png": "[encoded data removed]",
      "text/plain": [
       "<Figure size 432x288 with 1 Axes>"
      ]
     },
     "metadata": {
      "needs_background": "light"
     },
     "output_type": "display_data"
    }
   ],
   "source": [
    "ss = np.random.multivariate_normal(np.zeros(2), [[1,0.9],[0.9,1]], 100)\n",
    "plt.scatter(ss[:,0],ss[:,1]+ss[:,0]**2+1)"
   ]
  }
 ],
 "metadata": {
  "kernelspec": {
   "display_name": "Python 3",
   "language": "python",
   "name": "python3"
  },
  "language_info": {
   "codemirror_mode": {
    "name": "ipython",
    "version": 3
   },
   "file_extension": ".py",
   "mimetype": "text/x-python",
   "name": "python",
   "nbconvert_exporter": "python",
   "pygments_lexer": "ipython3",
   "version": "3.9.2"
  }
 },
 "nbformat": 4,
 "nbformat_minor": 5
}
